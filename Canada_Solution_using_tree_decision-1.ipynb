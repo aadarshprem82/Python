{
 "cells": [
  {
   "cell_type": "code",
   "execution_count": 1,
   "id": "78e945cf",
   "metadata": {},
   "outputs": [],
   "source": [
    "import pandas as pd\n",
    "from sklearn import tree"
   ]
  },
  {
   "cell_type": "code",
   "execution_count": 2,
   "id": "f27d0c03",
   "metadata": {},
   "outputs": [],
   "source": [
    "canada_per_capita_income_data = pd.read_csv('/Users/hemanth/Downloads/canada_per_capita_income.csv.xls')"
   ]
  },
  {
   "cell_type": "code",
   "execution_count": 3,
   "id": "301cec2d",
   "metadata": {},
   "outputs": [
    {
     "data": {
      "text/html": [
       "<div>\n",
       "<style scoped>\n",
       "    .dataframe tbody tr th:only-of-type {\n",
       "        vertical-align: middle;\n",
       "    }\n",
       "\n",
       "    .dataframe tbody tr th {\n",
       "        vertical-align: top;\n",
       "    }\n",
       "\n",
       "    .dataframe thead th {\n",
       "        text-align: right;\n",
       "    }\n",
       "</style>\n",
       "<table border=\"1\" class=\"dataframe\">\n",
       "  <thead>\n",
       "    <tr style=\"text-align: right;\">\n",
       "      <th></th>\n",
       "      <th>year</th>\n",
       "      <th>per capita income (US$)</th>\n",
       "    </tr>\n",
       "  </thead>\n",
       "  <tbody>\n",
       "    <tr>\n",
       "      <th>0</th>\n",
       "      <td>1970</td>\n",
       "      <td>3399.299037</td>\n",
       "    </tr>\n",
       "    <tr>\n",
       "      <th>1</th>\n",
       "      <td>1971</td>\n",
       "      <td>3768.297935</td>\n",
       "    </tr>\n",
       "    <tr>\n",
       "      <th>2</th>\n",
       "      <td>1972</td>\n",
       "      <td>4251.175484</td>\n",
       "    </tr>\n",
       "    <tr>\n",
       "      <th>3</th>\n",
       "      <td>1973</td>\n",
       "      <td>4804.463248</td>\n",
       "    </tr>\n",
       "    <tr>\n",
       "      <th>4</th>\n",
       "      <td>1974</td>\n",
       "      <td>5576.514583</td>\n",
       "    </tr>\n",
       "  </tbody>\n",
       "</table>\n",
       "</div>"
      ],
      "text/plain": [
       "   year  per capita income (US$)\n",
       "0  1970              3399.299037\n",
       "1  1971              3768.297935\n",
       "2  1972              4251.175484\n",
       "3  1973              4804.463248\n",
       "4  1974              5576.514583"
      ]
     },
     "execution_count": 3,
     "metadata": {},
     "output_type": "execute_result"
    }
   ],
   "source": [
    "canada_per_capita_income_data.head()"
   ]
  },
  {
   "cell_type": "code",
   "execution_count": 4,
   "id": "09f251af",
   "metadata": {},
   "outputs": [
    {
     "data": {
      "text/plain": [
       "0      3399\n",
       "1      3768\n",
       "2      4251\n",
       "3      4804\n",
       "4      5576\n",
       "5      5998\n",
       "6      7062\n",
       "7      7100\n",
       "8      7247\n",
       "9      7602\n",
       "10     8355\n",
       "11     9434\n",
       "12     9619\n",
       "13    10416\n",
       "14    10790\n",
       "15    11018\n",
       "16    11482\n",
       "17    12974\n",
       "18    15080\n",
       "19    16426\n",
       "20    16838\n",
       "21    17266\n",
       "22    16412\n",
       "23    15875\n",
       "24    15755\n",
       "25    16369\n",
       "26    16699\n",
       "27    17310\n",
       "28    16622\n",
       "29    17581\n",
       "30    18987\n",
       "31    18601\n",
       "32    19232\n",
       "33    22739\n",
       "34    25719\n",
       "35    29198\n",
       "36    32738\n",
       "37    36144\n",
       "38    37446\n",
       "39    32755\n",
       "40    38420\n",
       "41    42334\n",
       "42    42665\n",
       "43    42676\n",
       "44    41039\n",
       "45    35175\n",
       "46    34229\n",
       "Name: per capita income (US$), dtype: int64"
      ]
     },
     "execution_count": 4,
     "metadata": {},
     "output_type": "execute_result"
    }
   ],
   "source": [
    "new_per_capita_income = canada_per_capita_income_data['per capita income (US$)'].astype('int')\n",
    "new_per_capita_income"
   ]
  },
  {
   "cell_type": "code",
   "execution_count": 5,
   "id": "29372dd4",
   "metadata": {},
   "outputs": [
    {
     "data": {
      "text/plain": [
       "DecisionTreeClassifier()"
      ]
     },
     "execution_count": 5,
     "metadata": {},
     "output_type": "execute_result"
    }
   ],
   "source": [
    "model = tree.DecisionTreeClassifier()\n",
    "model.fit(canada_per_capita_income_data.drop('per capita income (US$)', axis = 1).values, new_per_capita_income)"
   ]
  },
  {
   "cell_type": "code",
   "execution_count": 6,
   "id": "688772ea",
   "metadata": {},
   "outputs": [
    {
     "data": {
      "text/plain": [
       "array([3399])"
      ]
     },
     "execution_count": 6,
     "metadata": {},
     "output_type": "execute_result"
    }
   ],
   "source": [
    "model.predict([[1970]])"
   ]
  },
  {
   "cell_type": "code",
   "execution_count": 7,
   "id": "136c2acb",
   "metadata": {},
   "outputs": [
    {
     "data": {
      "text/plain": [
       "array([34229])"
      ]
     },
     "execution_count": 7,
     "metadata": {},
     "output_type": "execute_result"
    }
   ],
   "source": [
    "model.predict([[2020]])"
   ]
  }
 ],
 "metadata": {
  "kernelspec": {
   "display_name": "Python 3 (ipykernel)",
   "language": "python",
   "name": "python3"
  },
  "language_info": {
   "codemirror_mode": {
    "name": "ipython",
    "version": 3
   },
   "file_extension": ".py",
   "mimetype": "text/x-python",
   "name": "python",
   "nbconvert_exporter": "python",
   "pygments_lexer": "ipython3",
   "version": "3.9.12"
  }
 },
 "nbformat": 4,
 "nbformat_minor": 5
}
