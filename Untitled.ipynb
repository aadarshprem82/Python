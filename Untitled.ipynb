{
 "cells": [
  {
   "cell_type": "code",
   "execution_count": 1,
   "id": "8f1d357a",
   "metadata": {},
   "outputs": [
    {
     "name": "stdout",
     "output_type": "stream",
     "text": [
      "2\n",
      "4\n",
      "6\n",
      "8\n",
      "10\n"
     ]
    }
   ],
   "source": [
    "for i in range(1,11):\n",
    "    if i%2==0:\n",
    "        print(i)"
   ]
  },
  {
   "cell_type": "code",
   "execution_count": 2,
   "id": "f56ffaa2",
   "metadata": {},
   "outputs": [
    {
     "name": "stdout",
     "output_type": "stream",
     "text": [
      "1\n",
      "2\n",
      "3\n",
      "4\n",
      "5\n",
      "6\n",
      "7\n",
      "8\n",
      "9\n"
     ]
    }
   ],
   "source": [
    "a=[1,2,3,4,5,6,7,8,9]\n",
    "for i in a:\n",
    "    print(i)"
   ]
  },
  {
   "cell_type": "code",
   "execution_count": 5,
   "id": "420f44a2",
   "metadata": {},
   "outputs": [
    {
     "name": "stdout",
     "output_type": "stream",
     "text": [
      "12 is Even, So  144\n",
      "17 is Odd, So  4913\n",
      "6 is Even, So  36\n",
      "9 is Odd, So  729\n",
      "20 is Even, So  400\n",
      "15 is Odd, So  3375\n",
      "18 is Even, So  324\n",
      "30 is Even, So  900\n"
     ]
    }
   ],
   "source": [
    "a=[12,17,6,9,20,15,18,30]\n",
    "for i in a:\n",
    "    if i%2==0:\n",
    "        print(i,\"is Even, So \",i**2)\n",
    "    else:\n",
    "        print(i,\"is Odd, So \",i**3)"
   ]
  },
  {
   "cell_type": "markdown",
   "id": "b5b3c750",
   "metadata": {},
   "source": [
    "### a=[12,17,6,9,20,15,18,30]\n",
    "even = []\n",
    "odd = []\n",
    "for i in range(10):\n",
    "    val = int(input(\"Enter the number : \"))\n",
    "    if val%2==0:\n",
    "        even.append(val)\n",
    "    else:\n",
    "        odd.append(val)"
   ]
  },
  {
   "cell_type": "code",
   "execution_count": 6,
   "id": "dfb0d15e",
   "metadata": {},
   "outputs": [
    {
     "data": {
      "text/plain": [
       "[2, 34, 2, 754, 22]"
      ]
     },
     "execution_count": 6,
     "metadata": {},
     "output_type": "execute_result"
    }
   ],
   "source": [
    "even"
   ]
  },
  {
   "cell_type": "code",
   "execution_count": 7,
   "id": "09c60f53",
   "metadata": {},
   "outputs": [
    {
     "data": {
      "text/plain": [
       "[1, 5, 53, 1, 3]"
      ]
     },
     "execution_count": 7,
     "metadata": {},
     "output_type": "execute_result"
    }
   ],
   "source": [
    "odd"
   ]
  },
  {
   "cell_type": "code",
   "execution_count": 8,
   "id": "cd98a828",
   "metadata": {},
   "outputs": [
    {
     "name": "stdout",
     "output_type": "stream",
     "text": [
      "1\n",
      "20\n",
      "3\n",
      "45\n",
      "5\n",
      "63\n",
      "7\n",
      "80\n",
      "9\n"
     ]
    }
   ],
   "source": [
    "a=[1,20,3,45,5,63,7,80,9]\n",
    "i=0\n",
    "while i<len(a):\n",
    "    print(a[i])\n",
    "    i+=1"
   ]
  },
  {
   "cell_type": "code",
   "execution_count": 9,
   "id": "fefe57f8",
   "metadata": {},
   "outputs": [],
   "source": [
    "def show():\n",
    "    a=int(input(\"Enter first number : \"))\n",
    "    b=int(input(\"Enter second number : \"))\n",
    "    print(a+b)"
   ]
  },
  {
   "cell_type": "code",
   "execution_count": 10,
   "id": "d9d0634c",
   "metadata": {},
   "outputs": [
    {
     "name": "stdout",
     "output_type": "stream",
     "text": [
      "Enter first number : 2\n",
      "Enter second number : 3\n",
      "5\n"
     ]
    }
   ],
   "source": [
    "show()"
   ]
  },
  {
   "cell_type": "code",
   "execution_count": null,
   "id": "9645a290",
   "metadata": {},
   "outputs": [],
   "source": []
  }
 ],
 "metadata": {
  "kernelspec": {
   "display_name": "Python 3 (ipykernel)",
   "language": "python",
   "name": "python3"
  },
  "language_info": {
   "codemirror_mode": {
    "name": "ipython",
    "version": 3
   },
   "file_extension": ".py",
   "mimetype": "text/x-python",
   "name": "python",
   "nbconvert_exporter": "python",
   "pygments_lexer": "ipython3",
   "version": "3.9.12"
  }
 },
 "nbformat": 4,
 "nbformat_minor": 5
}
